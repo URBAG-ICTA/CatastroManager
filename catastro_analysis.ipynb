{
 "cells": [
  {
   "cell_type": "code",
   "execution_count": 1,
   "metadata": {},
   "outputs": [],
   "source": [
    "import os\n",
    "import zipfile\n",
    "import shapefile\n",
    "import pandas as pd\n",
    "from simpledbf import Dbf5\n",
    "import dbf\n",
    "import csv"
   ]
  },
  {
   "cell_type": "code",
   "execution_count": 2,
   "metadata": {},
   "outputs": [],
   "source": [
    "base_path = 'D:/URBAG/Catastro/OneDrive_2020-07-24/Rustico actual/'"
   ]
  },
  {
   "cell_type": "code",
   "execution_count": 25,
   "metadata": {},
   "outputs": [
    {
     "data": {
      "text/plain": [
       "['08_100_RA_2020-04-25_SHF',\n",
       " '08_122_RA_2020-04-24_SHF',\n",
       " '08_124_RA_2020-04-24_SHF',\n",
       " '08_125_RA_2020-04-25_SHF',\n",
       " '08_156_RA_2020-04-24_SHF',\n",
       " '08_168_RA_2020-04-24_SHF',\n",
       " '08_179_RA_2020-04-24_SHF',\n",
       " '08_193_RA_2020-04-24_SHF',\n",
       " '08_195_RA_2020-04-24_SHF',\n",
       " '08_199_RA_2020-04-24_SHF',\n",
       " '08_203_RA_2020-04-24_SHF',\n",
       " '08_204_RA_2020-04-24_SHF',\n",
       " '08_210_RA_2020-04-24_SHF',\n",
       " '08_216_RA_2020-04-24_SHF',\n",
       " '08_219_RA_2020-04-24_SHF',\n",
       " '08_244_RA_2020-04-24_SHF',\n",
       " '08_245_RA_2020-04-24_SHF',\n",
       " '08_263_RA_2020-04-24_SHF',\n",
       " '08_282_RA_2020-04-25_SHF',\n",
       " '08_289_RA_2020-04-25_SHF',\n",
       " '08_302_RA_2020-04-25_SHF',\n",
       " '08_313_RA_2020-04-25_SHF',\n",
       " '08_76_RA_2020-04-24_SHF',\n",
       " '08_88_RA_2020-04-25_SHF',\n",
       " 'Badalona08_15_RA_2020-04-24_SHF',\n",
       " 'Badia08_312_RA_2020-04-25_SHF',\n",
       " 'Barbera08_252_RA_2020-04-24_SHF',\n",
       " 'Barcelona08_900_RA_2020-04-24_SHF',\n",
       " 'Begues08_20_RA_2020-04-25_SHF',\n",
       " 'Castellbisbal08_53_RA_2020-04-25_SHF',\n",
       " 'Castelldefelds08_55_RA_2020-04-25_SHF',\n",
       " 'Cerdanyola08_266_RA_2020-04-25_SHF',\n",
       " 'Cervello08_67_RA_2020-04-25_SHF',\n",
       " 'Corbera08_71_RA_2020-04-25_SHF',\n",
       " 'Cornella08_72_RA_2020-04-25_SHF',\n",
       " 'El Papiol08_157_RA_2020-04-24_SHF']"
      ]
     },
     "execution_count": 25,
     "metadata": {},
     "output_type": "execute_result"
    }
   ],
   "source": [
    "folders = next(os.walk(base_path))[1]\n",
    "folders"
   ]
  },
  {
   "cell_type": "code",
   "execution_count": 4,
   "metadata": {},
   "outputs": [],
   "source": [
    "def unzipFile(origin, destination):\n",
    "    with zipfile.ZipFile(origin,\"r\") as zip_ref:\n",
    "        zip_ref.extractall(destination)"
   ]
  },
  {
   "cell_type": "code",
   "execution_count": 5,
   "metadata": {},
   "outputs": [],
   "source": [
    "def unzipCatastro(base_folder):\n",
    "    folders = next(os.walk(base_path))[1]\n",
    "    for folder in folders:\n",
    "        unzipFile(base_folder+folder+'/SUBPARCE.zip',base_folder+folder+'/SUBPARCE')\n",
    "        unzipFile(base_folder+folder+'/RUSUBPARCELA.zip',base_folder+folder+'/RUSUBPARCELA')\n",
    "        unzipFile(base_folder+folder+'/RUCULTIVO.zip',base_folder+folder+'/RUCULTIVO')"
   ]
  },
  {
   "cell_type": "code",
   "execution_count": 6,
   "metadata": {},
   "outputs": [],
   "source": [
    "unzipCatastro(base_path)"
   ]
  },
  {
   "cell_type": "code",
   "execution_count": 39,
   "metadata": {},
   "outputs": [],
   "source": [
    "i = 1\n",
    "for folder in folders:\n",
    "    subparce_file = base_path+folder+'/SUBPARCE/SUBPARCE.DBF'\n",
    "    subparce_dbf = Dbf5(subparce_file)\n",
    "    subparce_DF = subparce_dbf.to_dataframe()\n",
    "\n",
    "    rusubparcela_file = base_path+folder+'/RUSUBPARCELA/RUSUBPARCELA.DBF'\n",
    "    rusubparcela_dbf = Dbf5(rusubparcela_file)\n",
    "    rusubparcela_DF = rusubparcela_dbf.to_dataframe()\n",
    "\n",
    "    rucultivo_file = base_path+folder+'/RUCULTIVO/RUCULTIVO.DBF'\n",
    "    rucultivo_dbf = Dbf5(rucultivo_file, codec='cp1250')\n",
    "    rucultivo_DF = rucultivo_dbf.to_dataframe()\n",
    "\n",
    "    subparce_DF['REFCAT_SUBPARCE'] = subparce_DF['REFCAT'] + subparce_DF['SUBPARCE']\n",
    "    rusubparcela_DF['REFCAT_SUBPARCE'] = rusubparcela_DF['REFCAT'] + rusubparcela_DF['SUBPARCELA']\n",
    "\n",
    "    subparce_rusubparcela_DF = pd.merge(subparce_DF, rusubparcela_DF, how='left', on='REFCAT_SUBPARCE')\n",
    "    subparce_rusubparcela_rucultivo_DF = pd.merge(subparce_rusubparcela_DF, rucultivo_DF, how='left', on='CC')\n",
    "    clean_subparce_rusubparcela_rucultivo_DF =subparce_rusubparcela_rucultivo_DF.rename(columns={\"MUNICIPIO_x\":\"MUNICIPIO\", \"MASA_x\":\"MASA\", \"HOJA_x\":\"HOJA\", \"PARCELA_x\":\"PARCELA\", \"PCAT1_x\":\"PCAT1\", \"PCAT2_x\":\"PCAT2\", \"REFCAT_x\":\"REFCAT\"})\n",
    "    final_DF = clean_subparce_rusubparcela_rucultivo_DF.drop(['SUBPARCE','DELEGACIO_x', 'DELEGACIO_y', 'MUNICIPIO_y', 'REFCAT_y', 'PCAT1_y', 'PCAT2_y', 'HOJA_y', 'MASA_y', 'PARCELA_y'], axis=1)\n",
    "    final_DF.to_csv(base_path+'../csv'+'/'+folder+'SUBPARCE.csv', quotechar='\"', sep=',', index=False )"
   ]
  },
  {
   "cell_type": "code",
   "execution_count": null,
   "metadata": {},
   "outputs": [],
   "source": []
  },
  {
   "cell_type": "code",
   "execution_count": 50,
   "metadata": {},
   "outputs": [],
   "source": [
    "base_csv_path = 'D:/URBAG/Catastro/OneDrive_2020-07-24/csv/'"
   ]
  },
  {
   "cell_type": "code",
   "execution_count": 51,
   "metadata": {},
   "outputs": [],
   "source": [
    "csv_files = os.listdir(base_csv_path)"
   ]
  },
  {
   "cell_type": "code",
   "execution_count": 52,
   "metadata": {},
   "outputs": [],
   "source": [
    "df_array = []\n",
    "for file in csv_files:\n",
    "    df_array.append(pd.read_csv(base_csv_path+file))\n",
    "Full_DF = pd.concat(df_array) "
   ]
  },
  {
   "cell_type": "code",
   "execution_count": 54,
   "metadata": {},
   "outputs": [],
   "source": [
    "Full_DF.to_csv(base_path+'../csv'+'/FULL_SUBPARCE.csv', quotechar='\"', sep=',', index=False )"
   ]
  }
 ],
 "metadata": {
  "kernelspec": {
   "display_name": "Python 3",
   "language": "python",
   "name": "python3"
  },
  "language_info": {
   "codemirror_mode": {
    "name": "ipython",
    "version": 3
   },
   "file_extension": ".py",
   "mimetype": "text/x-python",
   "name": "python",
   "nbconvert_exporter": "python",
   "pygments_lexer": "ipython3",
   "version": "3.7.4"
  }
 },
 "nbformat": 4,
 "nbformat_minor": 4
}
